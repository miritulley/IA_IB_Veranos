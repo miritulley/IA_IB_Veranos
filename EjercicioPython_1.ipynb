{
  "cells": [
    {
      "cell_type": "markdown",
      "metadata": {
        "id": "view-in-github",
        "colab_type": "text"
      },
      "source": [
        "<a href=\"https://colab.research.google.com/github/miritulley/IA_IB_Veranos/blob/main/EjercicioPython_1.ipynb\" target=\"_parent\"><img src=\"https://colab.research.google.com/assets/colab-badge.svg\" alt=\"Open In Colab\"/></a>"
      ]
    },
    {
      "cell_type": "markdown",
      "source": [
        "A1: Ejercicios en Python    \n",
        "Miriam Itzel Cordova Tulley   \n",
        "2077877    \n",
        "N4\n"
      ],
      "metadata": {
        "id": "bjUUzgBAn5NS"
      }
    },
    {
      "cell_type": "markdown",
      "source": [
        "Desarrolla un algoritmo que solicite al usuario dos números y muestre la suma de ambos."
      ],
      "metadata": {
        "id": "mFNBsLN5icId"
      }
    },
    {
      "cell_type": "code",
      "source": [
        "x=int(input(\"Ingrese el primer número: \"))\n",
        "y=int(input(\"Ingrese el segundo número: \"))\n",
        "sum=x+y\n",
        "print(\"El resultado de la suma es:\")\n",
        "print(sum)"
      ],
      "metadata": {
        "id": "YZd_LhOiigXV"
      },
      "execution_count": null,
      "outputs": []
    },
    {
      "cell_type": "markdown",
      "source": [
        "Desarrolla un algoritmo que calcule el factorial de un número ingresado por el usuario."
      ],
      "metadata": {
        "id": "3V2W7TfEig6L"
      }
    },
    {
      "cell_type": "code",
      "source": [
        "n=int(input(\"Ingrese un número positivo: \"))\n",
        "i=1\n",
        "fac=1\n",
        "while i<n+1:\n",
        "  fac=fac*i\n",
        "  i=i+1\n",
        "print(\"El factorial es:\")\n",
        "print(fac)"
      ],
      "metadata": {
        "id": "UPKWIFVyijcc"
      },
      "execution_count": null,
      "outputs": []
    },
    {
      "cell_type": "markdown",
      "source": [
        "Desarrolla un algoritmo que tome una lista de números y un número objetivo, y muestre la posición (índice) en la que se encuentra el número objetivo en la lista."
      ],
      "metadata": {
        "id": "qEh6rOBQij8v"
      }
    },
    {
      "cell_type": "code",
      "source": [
        "a=int(input(\"¿Cuántos datos tendrá su lista? \"))\n",
        "print(\"Agregue los números a la lista: \")\n",
        "i=0\n",
        "thislist=[]\n",
        "\n",
        "while i<a:\n",
        "  thislist.append(int(input()))\n",
        "  i=i+1\n",
        "print(thislist)\n",
        "\n",
        "b=int(input(\"¿Qué número desea buscar? \"))\n",
        "c=0;\n",
        "\n",
        "for x in thislist:\n",
        "  if b==x:\n",
        "    print(\"El número se encuentra en la posición:\")\n",
        "    print(c)\n",
        "  else:\n",
        "    c=c+1"
      ],
      "metadata": {
        "id": "1cNoBBfqiqE8"
      },
      "execution_count": null,
      "outputs": []
    },
    {
      "cell_type": "markdown",
      "source": [
        "Desarrolla un algoritmo que tome una cadena de texto y determine si es un palíndromo (se lee igual de adelante hacia atrás y viceversa)."
      ],
      "metadata": {
        "id": "7t3ws5TxiqV2"
      }
    },
    {
      "cell_type": "code",
      "source": [
        "x=str(input(\"Ingrese su palabra: \"))\n",
        "x = x.replace(\" \", \"\").lower()\n",
        "\n",
        "if x == x[::-1]:\n",
        "    print(\"La cadena es un palíndromo\")\n",
        "else:\n",
        "    print(\"La cadena no es un palíndromo\")\n"
      ],
      "metadata": {
        "id": "y_D0aj63irHT"
      },
      "execution_count": null,
      "outputs": []
    }
  ],
  "metadata": {
    "colab": {
      "toc_visible": true,
      "provenance": [],
      "include_colab_link": true
    },
    "kernelspec": {
      "display_name": "Python 3",
      "name": "python3"
    }
  },
  "nbformat": 4,
  "nbformat_minor": 0
}