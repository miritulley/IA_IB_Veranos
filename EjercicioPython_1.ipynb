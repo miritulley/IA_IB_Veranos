{
  "cells": [
    {
      "cell_type": "markdown",
      "metadata": {
        "id": "view-in-github",
        "colab_type": "text"
      },
      "source": [
        "<a href=\"https://colab.research.google.com/github/miritulley/IA_IB_Veranos/blob/main/EjercicioPython_1.ipynb\" target=\"_parent\"><img src=\"https://colab.research.google.com/assets/colab-badge.svg\" alt=\"Open In Colab\"/></a>"
      ]
    },
    {
      "cell_type": "markdown",
      "source": [
        "A1: Ejercicios en Python    \n",
        "Miriam Itzel Cordova Tulley   \n",
        "2077877    \n",
        "N4\n"
      ],
      "metadata": {
        "id": "bjUUzgBAn5NS"
      }
    },
    {
      "cell_type": "markdown",
      "source": [
        "Desarrolla un algoritmo que solicite al usuario dos números y muestre la suma de ambos."
      ],
      "metadata": {
        "id": "mFNBsLN5icId"
      }
    },
    {
      "cell_type": "code",
      "source": [
        "x=int(input(\"Ingrese el primer número: \"))\n",
        "y=int(input(\"Ingrese el segundo número: \"))\n",
        "sum=x+y\n",
        "print(\"El resultado de la suma es:\")\n",
        "print(sum)"
      ],
      "metadata": {
        "id": "YZd_LhOiigXV",
        "colab": {
          "base_uri": "https://localhost:8080/"
        },
        "outputId": "32510caa-cd0a-4446-e0d3-2e099ef4cc2a"
      },
      "execution_count": 1,
      "outputs": [
        {
          "output_type": "stream",
          "name": "stdout",
          "text": [
            "Ingrese el primer número: 2\n",
            "Ingrese el segundo número: 3\n",
            "El resultado de la suma es:\n",
            "5\n"
          ]
        }
      ]
    },
    {
      "cell_type": "markdown",
      "source": [
        "Desarrolla un algoritmo que calcule el factorial de un número ingresado por el usuario."
      ],
      "metadata": {
        "id": "3V2W7TfEig6L"
      }
    },
    {
      "cell_type": "code",
      "source": [
        "n=int(input(\"Ingrese un número positivo: \"))\n",
        "i=1\n",
        "fac=1\n",
        "while i<n+1:\n",
        "  fac=fac*i\n",
        "  i=i+1\n",
        "print(\"El factorial es:\")\n",
        "print(fac)"
      ],
      "metadata": {
        "id": "UPKWIFVyijcc",
        "colab": {
          "base_uri": "https://localhost:8080/"
        },
        "outputId": "36fd5bbe-b0c8-48ec-8345-d6aeb39b8a74"
      },
      "execution_count": 2,
      "outputs": [
        {
          "output_type": "stream",
          "name": "stdout",
          "text": [
            "Ingrese un número positivo: 4\n",
            "El factorial es:\n",
            "24\n"
          ]
        }
      ]
    },
    {
      "cell_type": "markdown",
      "source": [
        "Desarrolla un algoritmo que tome una lista de números y un número objetivo, y muestre la posición (índice) en la que se encuentra el número objetivo en la lista."
      ],
      "metadata": {
        "id": "qEh6rOBQij8v"
      }
    },
    {
      "cell_type": "code",
      "source": [
        "a=int(input(\"¿Cuántos datos tendrá su lista? \"))\n",
        "print(\"Agregue los números a la lista: \")\n",
        "i=0\n",
        "thislist=[]\n",
        "\n",
        "while i<a:\n",
        "  thislist.append(int(input()))\n",
        "  i=i+1\n",
        "print(thislist)\n",
        "\n",
        "b=int(input(\"¿Qué número desea buscar? \"))\n",
        "c=0;\n",
        "\n",
        "for x in thislist:\n",
        "  if b==x:\n",
        "    print(\"El número se encuentra en la posición:\")\n",
        "    print(c)\n",
        "  else:\n",
        "    c=c+1"
      ],
      "metadata": {
        "id": "1cNoBBfqiqE8",
        "colab": {
          "base_uri": "https://localhost:8080/"
        },
        "outputId": "151081f6-6635-43d1-a030-77ea482206f2"
      },
      "execution_count": 3,
      "outputs": [
        {
          "output_type": "stream",
          "name": "stdout",
          "text": [
            "¿Cuántos datos tendrá su lista? 4\n",
            "Agregue los números a la lista: \n",
            "2\n",
            "4\n",
            "6\n",
            "8\n",
            "[2, 4, 6, 8]\n",
            "¿Qué número desea buscar? 6\n",
            "El número se encuentra en la posición:\n",
            "2\n"
          ]
        }
      ]
    },
    {
      "cell_type": "markdown",
      "source": [
        "Desarrolla un algoritmo que tome una cadena de texto y determine si es un palíndromo (se lee igual de adelante hacia atrás y viceversa)."
      ],
      "metadata": {
        "id": "7t3ws5TxiqV2"
      }
    },
    {
      "cell_type": "code",
      "source": [
        "x=str(input(\"Ingrese su palabra: \"))\n",
        "x = x.replace(\" \", \"\").lower()\n",
        "\n",
        "if x == x[::-1]:\n",
        "    print(\"La cadena es un palíndromo\")\n",
        "else:\n",
        "    print(\"La cadena no es un palíndromo\")\n"
      ],
      "metadata": {
        "id": "y_D0aj63irHT",
        "colab": {
          "base_uri": "https://localhost:8080/"
        },
        "outputId": "9c7d040a-5cf3-4360-ba11-d4f26eab71e7"
      },
      "execution_count": 4,
      "outputs": [
        {
          "output_type": "stream",
          "name": "stdout",
          "text": [
            "Ingrese su palabra: ana\n",
            "La cadena es un palíndromo\n"
          ]
        }
      ]
    }
  ],
  "metadata": {
    "colab": {
      "toc_visible": true,
      "provenance": [],
      "include_colab_link": true
    },
    "kernelspec": {
      "display_name": "Python 3",
      "name": "python3"
    }
  },
  "nbformat": 4,
  "nbformat_minor": 0
}